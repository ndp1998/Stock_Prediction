{
 "cells": [
  {
   "cell_type": "markdown",
   "id": "99a4ef30",
   "metadata": {},
   "source": [
    "# Self-learning Project - Stock Prediction"
   ]
  },
  {
   "cell_type": "markdown",
   "id": "b36f4f42",
   "metadata": {},
   "source": [
    "Description: This program uses an artificial recurrent neural network called Long Short Term Memory (LSTM) to predict the closing stock price of a corporation using the past 60 days stock price."
   ]
  },
  {
   "cell_type": "code",
   "execution_count": 1,
   "id": "ddf04f50",
   "metadata": {},
   "outputs": [],
   "source": [
    "# Import libraries\n",
    "import math\n",
    "import pandas_datareader as web\n",
    "import numpy as np\n",
    "import pandas as pd\n",
    "from sklearn.preprocessing import MinMaxScaler\n",
    "from keras.models import Sequential\n",
    "from keras.layers import Dense, LSTM\n",
    "from sklearn.metrics import r2_score\n",
    "from sklearn.metrics import mean_squared_error\n",
    "import matplotlib.pyplot as plt"
   ]
  },
  {
   "cell_type": "code",
   "execution_count": 2,
   "id": "1096de63",
   "metadata": {},
   "outputs": [
    {
     "data": {
      "text/html": [
       "<div>\n",
       "<style scoped>\n",
       "    .dataframe tbody tr th:only-of-type {\n",
       "        vertical-align: middle;\n",
       "    }\n",
       "\n",
       "    .dataframe tbody tr th {\n",
       "        vertical-align: top;\n",
       "    }\n",
       "\n",
       "    .dataframe thead th {\n",
       "        text-align: right;\n",
       "    }\n",
       "</style>\n",
       "<table border=\"1\" class=\"dataframe\">\n",
       "  <thead>\n",
       "    <tr style=\"text-align: right;\">\n",
       "      <th></th>\n",
       "      <th>High</th>\n",
       "      <th>Low</th>\n",
       "      <th>Open</th>\n",
       "      <th>Close</th>\n",
       "      <th>Volume</th>\n",
       "      <th>Adj Close</th>\n",
       "    </tr>\n",
       "    <tr>\n",
       "      <th>Date</th>\n",
       "      <th></th>\n",
       "      <th></th>\n",
       "      <th></th>\n",
       "      <th></th>\n",
       "      <th></th>\n",
       "      <th></th>\n",
       "    </tr>\n",
       "  </thead>\n",
       "  <tbody>\n",
       "    <tr>\n",
       "      <th>2014-12-31</th>\n",
       "      <td>28.282499</td>\n",
       "      <td>27.552500</td>\n",
       "      <td>28.205000</td>\n",
       "      <td>27.594999</td>\n",
       "      <td>165613600.0</td>\n",
       "      <td>24.951864</td>\n",
       "    </tr>\n",
       "    <tr>\n",
       "      <th>2015-01-02</th>\n",
       "      <td>27.860001</td>\n",
       "      <td>26.837500</td>\n",
       "      <td>27.847500</td>\n",
       "      <td>27.332500</td>\n",
       "      <td>212818400.0</td>\n",
       "      <td>24.714506</td>\n",
       "    </tr>\n",
       "    <tr>\n",
       "      <th>2015-01-05</th>\n",
       "      <td>27.162500</td>\n",
       "      <td>26.352501</td>\n",
       "      <td>27.072500</td>\n",
       "      <td>26.562500</td>\n",
       "      <td>257142000.0</td>\n",
       "      <td>24.018263</td>\n",
       "    </tr>\n",
       "    <tr>\n",
       "      <th>2015-01-06</th>\n",
       "      <td>26.857500</td>\n",
       "      <td>26.157499</td>\n",
       "      <td>26.635000</td>\n",
       "      <td>26.565001</td>\n",
       "      <td>263188400.0</td>\n",
       "      <td>24.020523</td>\n",
       "    </tr>\n",
       "    <tr>\n",
       "      <th>2015-01-07</th>\n",
       "      <td>27.049999</td>\n",
       "      <td>26.674999</td>\n",
       "      <td>26.799999</td>\n",
       "      <td>26.937500</td>\n",
       "      <td>160423600.0</td>\n",
       "      <td>24.357342</td>\n",
       "    </tr>\n",
       "  </tbody>\n",
       "</table>\n",
       "</div>"
      ],
      "text/plain": [
       "                 High        Low       Open      Close       Volume  Adj Close\n",
       "Date                                                                          \n",
       "2014-12-31  28.282499  27.552500  28.205000  27.594999  165613600.0  24.951864\n",
       "2015-01-02  27.860001  26.837500  27.847500  27.332500  212818400.0  24.714506\n",
       "2015-01-05  27.162500  26.352501  27.072500  26.562500  257142000.0  24.018263\n",
       "2015-01-06  26.857500  26.157499  26.635000  26.565001  263188400.0  24.020523\n",
       "2015-01-07  27.049999  26.674999  26.799999  26.937500  160423600.0  24.357342"
      ]
     },
     "execution_count": 2,
     "metadata": {},
     "output_type": "execute_result"
    }
   ],
   "source": [
    "#Get stock quote\n",
    "company = 'AAPL'\n",
    "start_date = '2015-01-01'\n",
    "end_date = '2021-12-31'\n",
    "df = web.DataReader(company, data_source='yahoo', start=start_date, end=end_date)\n",
    "df.head()"
   ]
  },
  {
   "cell_type": "code",
   "execution_count": 3,
   "id": "fc8791d2",
   "metadata": {},
   "outputs": [
    {
     "name": "stdout",
     "output_type": "stream",
     "text": [
      "<class 'pandas.core.frame.DataFrame'>\n",
      "DatetimeIndex: 1764 entries, 2014-12-31 to 2021-12-31\n",
      "Data columns (total 6 columns):\n",
      " #   Column     Non-Null Count  Dtype  \n",
      "---  ------     --------------  -----  \n",
      " 0   High       1764 non-null   float64\n",
      " 1   Low        1764 non-null   float64\n",
      " 2   Open       1764 non-null   float64\n",
      " 3   Close      1764 non-null   float64\n",
      " 4   Volume     1764 non-null   float64\n",
      " 5   Adj Close  1764 non-null   float64\n",
      "dtypes: float64(6)\n",
      "memory usage: 96.5 KB\n"
     ]
    }
   ],
   "source": [
    "#Check for number of entries\n",
    "df.info()"
   ]
  },
  {
   "cell_type": "code",
   "execution_count": 4,
   "id": "7913470c",
   "metadata": {},
   "outputs": [
    {
     "data": {
      "text/html": [
       "<div>\n",
       "<style scoped>\n",
       "    .dataframe tbody tr th:only-of-type {\n",
       "        vertical-align: middle;\n",
       "    }\n",
       "\n",
       "    .dataframe tbody tr th {\n",
       "        vertical-align: top;\n",
       "    }\n",
       "\n",
       "    .dataframe thead th {\n",
       "        text-align: right;\n",
       "    }\n",
       "</style>\n",
       "<table border=\"1\" class=\"dataframe\">\n",
       "  <thead>\n",
       "    <tr style=\"text-align: right;\">\n",
       "      <th></th>\n",
       "      <th>High</th>\n",
       "      <th>Low</th>\n",
       "      <th>Open</th>\n",
       "      <th>Close</th>\n",
       "      <th>Volume</th>\n",
       "      <th>Adj Close</th>\n",
       "    </tr>\n",
       "  </thead>\n",
       "  <tbody>\n",
       "    <tr>\n",
       "      <th>count</th>\n",
       "      <td>1764.000000</td>\n",
       "      <td>1764.000000</td>\n",
       "      <td>1764.000000</td>\n",
       "      <td>1764.000000</td>\n",
       "      <td>1.764000e+03</td>\n",
       "      <td>1764.000000</td>\n",
       "    </tr>\n",
       "    <tr>\n",
       "      <th>mean</th>\n",
       "      <td>61.984515</td>\n",
       "      <td>60.701275</td>\n",
       "      <td>61.329983</td>\n",
       "      <td>61.373359</td>\n",
       "      <td>1.380318e+08</td>\n",
       "      <td>59.828320</td>\n",
       "    </tr>\n",
       "    <tr>\n",
       "      <th>std</th>\n",
       "      <td>40.791953</td>\n",
       "      <td>39.828676</td>\n",
       "      <td>40.301245</td>\n",
       "      <td>40.337350</td>\n",
       "      <td>6.976581e+07</td>\n",
       "      <td>40.870568</td>\n",
       "    </tr>\n",
       "    <tr>\n",
       "      <th>min</th>\n",
       "      <td>22.917500</td>\n",
       "      <td>22.367500</td>\n",
       "      <td>22.500000</td>\n",
       "      <td>22.584999</td>\n",
       "      <td>4.100000e+07</td>\n",
       "      <td>21.009529</td>\n",
       "    </tr>\n",
       "    <tr>\n",
       "      <th>25%</th>\n",
       "      <td>31.731250</td>\n",
       "      <td>31.235625</td>\n",
       "      <td>31.504375</td>\n",
       "      <td>31.473125</td>\n",
       "      <td>9.039990e+07</td>\n",
       "      <td>28.654940</td>\n",
       "    </tr>\n",
       "    <tr>\n",
       "      <th>50%</th>\n",
       "      <td>44.332500</td>\n",
       "      <td>43.627501</td>\n",
       "      <td>43.865000</td>\n",
       "      <td>43.966251</td>\n",
       "      <td>1.189708e+08</td>\n",
       "      <td>42.348808</td>\n",
       "    </tr>\n",
       "    <tr>\n",
       "      <th>75%</th>\n",
       "      <td>78.218752</td>\n",
       "      <td>76.302502</td>\n",
       "      <td>77.147501</td>\n",
       "      <td>77.390627</td>\n",
       "      <td>1.654590e+08</td>\n",
       "      <td>76.220520</td>\n",
       "    </tr>\n",
       "    <tr>\n",
       "      <th>max</th>\n",
       "      <td>182.130005</td>\n",
       "      <td>178.529999</td>\n",
       "      <td>181.119995</td>\n",
       "      <td>180.330002</td>\n",
       "      <td>6.488252e+08</td>\n",
       "      <td>180.100540</td>\n",
       "    </tr>\n",
       "  </tbody>\n",
       "</table>\n",
       "</div>"
      ],
      "text/plain": [
       "              High          Low         Open        Close        Volume  \\\n",
       "count  1764.000000  1764.000000  1764.000000  1764.000000  1.764000e+03   \n",
       "mean     61.984515    60.701275    61.329983    61.373359  1.380318e+08   \n",
       "std      40.791953    39.828676    40.301245    40.337350  6.976581e+07   \n",
       "min      22.917500    22.367500    22.500000    22.584999  4.100000e+07   \n",
       "25%      31.731250    31.235625    31.504375    31.473125  9.039990e+07   \n",
       "50%      44.332500    43.627501    43.865000    43.966251  1.189708e+08   \n",
       "75%      78.218752    76.302502    77.147501    77.390627  1.654590e+08   \n",
       "max     182.130005   178.529999   181.119995   180.330002  6.488252e+08   \n",
       "\n",
       "         Adj Close  \n",
       "count  1764.000000  \n",
       "mean     59.828320  \n",
       "std      40.870568  \n",
       "min      21.009529  \n",
       "25%      28.654940  \n",
       "50%      42.348808  \n",
       "75%      76.220520  \n",
       "max     180.100540  "
      ]
     },
     "execution_count": 4,
     "metadata": {},
     "output_type": "execute_result"
    }
   ],
   "source": [
    "#Summary of data\n",
    "df.describe()"
   ]
  },
  {
   "cell_type": "code",
   "execution_count": 5,
   "id": "12231be7",
   "metadata": {},
   "outputs": [
    {
     "data": {
      "image/png": "[encoded data removed]",
      "text/plain": [
       "<Figure size 1152x576 with 1 Axes>"
      ]
     },
     "metadata": {
      "needs_background": "light"
     },
     "output_type": "display_data"
    }
   ],
   "source": [
    "#Plot line graph\n",
    "plt.figure(figsize=(16,8))\n",
    "plt.plot(df['Close'])\n",
    "plt.title('Close Price History')\n",
    "plt.xlabel('Date')\n",
    "plt.ylabel('Close Price USD ($)')\n",
    "plt.show()"
   ]
  },
  {
   "cell_type": "markdown",
   "id": "95138a91",
   "metadata": {},
   "source": [
    "Scaler.fit_transform() should be executed on the training data instead of the entire dataset. If executed on the entire dataset, then the mean and variance are calculated on the entire dataset (with test data included). This will bias the model with information from the test data. The correct step should be execute scaler.fit_transform() on the training data at first, and then execute scaler.transform() on the test data.\n",
    "\n",
    "This is also known as data leakage"
   ]
  },
  {
   "cell_type": "code",
   "execution_count": 20,
   "id": "e2d88674",
   "metadata": {},
   "outputs": [
    {
     "data": {
      "text/plain": [
       "array([[ 27.59499931],\n",
       "       [ 27.33250046],\n",
       "       [ 26.5625    ],\n",
       "       ...,\n",
       "       [113.90249634],\n",
       "       [111.11250305],\n",
       "       [112.72750092]])"
      ]
     },
     "execution_count": 20,
     "metadata": {},
     "output_type": "execute_result"
    }
   ],
   "source": [
    "#Create new dataframe with Close column only\n",
    "data = df.filter(['Close'])\n",
    "#Convert the dataframe to a numpy array\n",
    "dataset = data.values\n",
    "#Get training data length (0.8)\n",
    "training_data_len = math.ceil(len(dataset) * 0.8)\n",
    "train_data = dataset[:training_data_len]\n",
    "train_data"
   ]
  },
  {
   "cell_type": "code",
   "execution_count": 7,
   "id": "3f59f319",
   "metadata": {},
   "outputs": [
    {
     "data": {
      "text/plain": [
       "array([[0.03176012],\n",
       "       [0.03009605],\n",
       "       [0.02521475],\n",
       "       ...,\n",
       "       [0.99397764],\n",
       "       [0.98649716],\n",
       "       [0.98250344]])"
      ]
     },
     "execution_count": 7,
     "metadata": {},
     "output_type": "execute_result"
    }
   ],
   "source": [
    "#Scale training data\n",
    "scaler = MinMaxScaler(feature_range=(0,1))\n",
    "scaled_data = scaler.fit_transform(dataset)\n",
    "scaled_data"
   ]
  },
  {
   "cell_type": "code",
   "execution_count": 8,
   "id": "d041525d",
   "metadata": {},
   "outputs": [],
   "source": [
    "#Create the training dataset\n",
    "prediction_days = 60\n",
    "x_train = []\n",
    "y_train = []\n",
    "\n",
    "#Append 60 days of closing price to x_train and the result (61 day) to y_train\n",
    "for i in range(prediction_days, len(scaled_data)):\n",
    "    x_train.append(scaled_data[i-60:i,0])\n",
    "    y_train.append([scaled_data[i,0]])\n",
    "    \n",
    "# Prepare training dataset to numpy array for the model training later\n",
    "x_train , y_train = np.array(x_train), np.array(y_train)\n",
    "\n",
    "# Reshape the x_train data\n",
    "x_train = np.reshape(x_train, (x_train.shape[0], x_train.shape[1], 1))"
   ]
  },
  {
   "cell_type": "code",
   "execution_count": 9,
   "id": "8a4521be",
   "metadata": {},
   "outputs": [],
   "source": [
    "#Build the LSTM model\n",
    "model = Sequential()\n",
    "#50 neurons, return_sequences=True because we going to use another LSTM layer, \n",
    "#since this LSTM is the first layer, we will add the input_shape\n",
    "model.add(LSTM(50,return_sequences=True, input_shape=(x_train.shape[1],1)))\n",
    "#50 neurons, return_sequences=False because there is no more LSTM layer\n",
    "model.add(LSTM(50, return_sequences=False))\n",
    "model.add(Dense(25))\n",
    "model.add(Dense(1))"
   ]
  },
  {
   "cell_type": "code",
   "execution_count": 10,
   "id": "9a3f3ef8",
   "metadata": {},
   "outputs": [],
   "source": [
    "#Compile the model\n",
    "#Optimizer is used to improve upon the loss function and the loss function is used how the model did in training\n",
    "model.compile(optimizer='adam', loss='mean_squared_error')"
   ]
  },
  {
   "cell_type": "code",
   "execution_count": 11,
   "id": "128546c1",
   "metadata": {},
   "outputs": [
    {
     "name": "stdout",
     "output_type": "stream",
     "text": [
      "1704/1704 [==============================] - 40s 22ms/step - loss: 0.0017\n"
     ]
    },
    {
     "data": {
      "text/plain": [
       "<keras.callbacks.History at 0x21c647a7820>"
      ]
     },
     "execution_count": 11,
     "metadata": {},
     "output_type": "execute_result"
    }
   ],
   "source": [
    "#Train the model\n",
    "#epochs = Number of interations on a dataset\n",
    "model.fit(x_train, y_train, batch_size=1, epochs=1)"
   ]
  },
  {
   "cell_type": "code",
   "execution_count": 12,
   "id": "35dc66b5",
   "metadata": {},
   "outputs": [],
   "source": [
    "#Create the testing dataset\n",
    "#Create a new array containing scaled values from index of training_data_len to last item\n",
    "test_data = dataset[training_data_len-prediction_days:, :]\n",
    "actual_prices = dataset[training_data_len:, :]\n",
    "#Scale the test_data\n",
    "test_data = scaler.transform(test_data)"
   ]
  },
  {
   "cell_type": "code",
   "execution_count": 13,
   "id": "32370756",
   "metadata": {},
   "outputs": [],
   "source": [
    "#Create the dataset x_test and y_test\n",
    "x_test = []\n",
    "y_test = dataset[training_data_len:, :]\n",
    "for i in range(prediction_days, len(test_data)):\n",
    "    x_test.append(test_data[i-60:i,0])"
   ]
  },
  {
   "cell_type": "code",
   "execution_count": 14,
   "id": "f24a6475",
   "metadata": {},
   "outputs": [],
   "source": [
    "#Convert the data to a numpy array\n",
    "x_test = np.array(x_test)"
   ]
  },
  {
   "cell_type": "code",
   "execution_count": 15,
   "id": "042ac371",
   "metadata": {},
   "outputs": [],
   "source": [
    "#Reshape and scale the data\n",
    "x_test = np.reshape(x_test, (x_test.shape[0], x_test.shape[1], 1))"
   ]
  },
  {
   "cell_type": "code",
   "execution_count": 16,
   "id": "a67d7316",
   "metadata": {},
   "outputs": [
    {
     "data": {
      "image/png": "[encoded data removed]",
      "text/plain": [
       "<Figure size 432x288 with 1 Axes>"
      ]
     },
     "metadata": {
      "needs_background": "light"
     },
     "output_type": "display_data"
    }
   ],
   "source": [
    "#Get the models predicted price values\n",
    "predictions = model.predict(x_test)\n",
    "predictions = scaler.inverse_transform(predictions)\n",
    "plt.plot(predictions, color=\"blue\", label=\"Predicted Prices\")\n",
    "plt.plot(actual_prices, color=\"black\", label=\"Actual Prices\")\n",
    "plt.title(f\"{company} Share Price\")\n",
    "plt.xlabel('Time')\n",
    "plt.ylabel('Price')\n",
    "plt.show()"
   ]
  },
  {
   "cell_type": "code",
   "execution_count": 17,
   "id": "e8d2b1a2",
   "metadata": {},
   "outputs": [
    {
     "data": {
      "text/plain": [
       "5.452193820230863"
      ]
     },
     "execution_count": 17,
     "metadata": {},
     "output_type": "execute_result"
    }
   ],
   "source": [
    "#evaluate the model performance\n",
    "mse = mean_squared_error(y_test, predictions)\n",
    "rmse = (np.sqrt(mean_squared_error(y_test, predictions)))\n",
    "rmse"
   ]
  },
  {
   "cell_type": "code",
   "execution_count": 18,
   "id": "af77d68a",
   "metadata": {},
   "outputs": [
    {
     "data": {
      "text/plain": [
       "0.8870741586129819"
      ]
     },
     "execution_count": 18,
     "metadata": {},
     "output_type": "execute_result"
    }
   ],
   "source": [
    "r2 = r2_score(y_test, predictions)\n",
    "r2"
   ]
  },
  {
   "cell_type": "code",
   "execution_count": 25,
   "id": "3ba21438",
   "metadata": {},
   "outputs": [],
   "source": [
    "final_test = dataset[len(dataset) - prediction_days:len(dataset)+1]\n",
    "final_test = scaler.transform(final_test)\n",
    "final_test = np.array([final_test])\n",
    "final_test = np.reshape(final_test, (final_test.shape[0], final_test.shape[1],1))"
   ]
  },
  {
   "cell_type": "code",
   "execution_count": 26,
   "id": "6e0c39da",
   "metadata": {},
   "outputs": [
    {
     "name": "stdout",
     "output_type": "stream",
     "text": [
      "[[1.0027059]]\n",
      "180.75684\n"
     ]
    }
   ],
   "source": [
    "final_prediction = model.predict(final_test)\n",
    "final_prediction = scaler.inverse_transform(final_prediction)\n",
    "print(final_prediction[0][0])"
   ]
  }
 ],
 "metadata": {
  "kernelspec": {
   "display_name": "Python 3",
   "language": "python",
   "name": "python3"
  },
  "language_info": {
   "codemirror_mode": {
    "name": "ipython",
    "version": 3
   },
   "file_extension": ".py",
   "mimetype": "text/x-python",
   "name": "python",
   "nbconvert_exporter": "python",
   "pygments_lexer": "ipython3",
   "version": "3.9.7"
  }
 },
 "nbformat": 4,
 "nbformat_minor": 5
}
